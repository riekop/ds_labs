{
  "nbformat": 4,
  "nbformat_minor": 0,
  "metadata": {
    "colab": {
      "name": "Dict__Data__Structure_Ajuoga.ipynb",
      "provenance": [],
      "include_colab_link": true
    },
    "kernelspec": {
      "name": "python3",
      "display_name": "Python 3"
    },
    "language_info": {
      "name": "python"
    }
  },
  "cells": [
    {
      "cell_type": "markdown",
      "metadata": {
        "id": "view-in-github",
        "colab_type": "text"
      },
      "source": [
        "<a href=\"https://colab.research.google.com/github/riekop/ds_labs/blob/main/Dict__Data__Structure_Ajuoga.ipynb\" target=\"_parent\"><img src=\"https://colab.research.google.com/assets/colab-badge.svg\" alt=\"Open In Colab\"/></a>"
      ]
    },
    {
      "cell_type": "markdown",
      "metadata": {
        "id": "7bIj3ehM8ZAS"
      },
      "source": [
        "# Dictionaries"
      ]
    },
    {
      "cell_type": "markdown",
      "metadata": {
        "id": "jF7baI1A8g44"
      },
      "source": [
        "**Dictionaries Creations**"
      ]
    },
    {
      "cell_type": "code",
      "metadata": {
        "colab": {
          "base_uri": "https://localhost:8080/"
        },
        "id": "OPUYNtm48lpU",
        "outputId": "432ed161-35d6-4a7f-ada7-0d43afdea7a9"
      },
      "source": [
        "d = {}\n",
        "type(d)"
      ],
      "execution_count": null,
      "outputs": [
        {
          "output_type": "execute_result",
          "data": {
            "text/plain": [
              "dict"
            ]
          },
          "metadata": {
            "tags": []
          },
          "execution_count": 25
        }
      ]
    },
    {
      "cell_type": "code",
      "metadata": {
        "colab": {
          "base_uri": "https://localhost:8080/"
        },
        "id": "k2MEWT0Z85fr",
        "outputId": "1f8c397d-93fd-40c6-9bc5-1deb27a84755"
      },
      "source": [
        "a = {1:'Alma', 2:'Shay', 10:'Ligorio' } #First way\n",
        "print(a)\n",
        "b = dict(one = 'Alma', two = 'Shay', ten = 'Ligorio') #Second way"
      ],
      "execution_count": null,
      "outputs": [
        {
          "output_type": "stream",
          "text": [
            "{1: 'Alma', 2: 'Shay', 10: 'Ligorio'}\n"
          ],
          "name": "stdout"
        }
      ]
    },
    {
      "cell_type": "code",
      "metadata": {
        "colab": {
          "base_uri": "https://localhost:8080/"
        },
        "id": "7aQsfKYh86SG",
        "outputId": "0dc0e8b4-34d7-441e-ad3b-c68a2c836acb"
      },
      "source": [
        "integer_dict = {'zero':0, 'one':1, 'two':3}\n",
        "print(integer_dict)\n",
        "print(type(integer_dict))"
      ],
      "execution_count": null,
      "outputs": [
        {
          "output_type": "stream",
          "text": [
            "{'zero': 0, 'one': 1, 'two': 3}\n",
            "<class 'dict'>\n"
          ],
          "name": "stdout"
        }
      ]
    },
    {
      "cell_type": "markdown",
      "metadata": {
        "id": "D0X7XUl39Bix"
      },
      "source": [
        "**Using list**"
      ]
    },
    {
      "cell_type": "code",
      "metadata": {
        "colab": {
          "base_uri": "https://localhost:8080/"
        },
        "id": "fEwQZINVHdg5",
        "outputId": "52e036f8-29b5-4140-8ca2-f659a9ce9be7"
      },
      "source": [
        "empty_list = []\n",
        "empty_list"
      ],
      "execution_count": null,
      "outputs": [
        {
          "output_type": "execute_result",
          "data": {
            "text/plain": [
              "[]"
            ]
          },
          "metadata": {
            "tags": []
          },
          "execution_count": 11
        }
      ]
    },
    {
      "cell_type": "code",
      "metadata": {
        "colab": {
          "base_uri": "https://localhost:8080/"
        },
        "id": "qJBkuG6OHpGr",
        "outputId": "f0139c73-cf39-4a8c-c593-ba03630f8606"
      },
      "source": [
        "data_list = [1,2,3,3]\n",
        "data_list"
      ],
      "execution_count": null,
      "outputs": [
        {
          "output_type": "execute_result",
          "data": {
            "text/plain": [
              "[1, 2, 3, 3]"
            ]
          },
          "metadata": {
            "tags": []
          },
          "execution_count": 17
        }
      ]
    },
    {
      "cell_type": "code",
      "metadata": {
        "colab": {
          "base_uri": "https://localhost:8080/"
        },
        "id": "-4wGCThBPIo9",
        "outputId": "a07df933-6e70-43b6-a26d-edbdd2cdeb21"
      },
      "source": [
        "tuple = [1,2,3,3]\n",
        "tuple"
      ],
      "execution_count": null,
      "outputs": [
        {
          "output_type": "execute_result",
          "data": {
            "text/plain": [
              "[1, 2, 3, 3]"
            ]
          },
          "metadata": {
            "tags": []
          },
          "execution_count": 23
        }
      ]
    },
    {
      "cell_type": "code",
      "metadata": {
        "colab": {
          "base_uri": "https://localhost:8080/"
        },
        "id": "yDue72rdPR-r",
        "outputId": "f21be3ff-d91e-4d5e-940c-d971fa7209a6"
      },
      "source": [
        "tup = [1,2,3,3]\n",
        "tup"
      ],
      "execution_count": null,
      "outputs": [
        {
          "output_type": "execute_result",
          "data": {
            "text/plain": [
              "[1, 2, 3, 3]"
            ]
          },
          "metadata": {
            "tags": []
          },
          "execution_count": 24
        }
      ]
    },
    {
      "cell_type": "code",
      "metadata": {
        "colab": {
          "base_uri": "https://localhost:8080/"
        },
        "id": "70MalDDm9IzP",
        "outputId": "67b729d5-2436-4833-92f0-3e71d4beee2c"
      },
      "source": [
        "staff_data = {'dept':['Audit', 'Business', 'Finance'], 'title': ['Manager', 'Officer', 'Director']}\n",
        "print(staff_data.keys())"
      ],
      "execution_count": null,
      "outputs": [
        {
          "output_type": "stream",
          "text": [
            "dict_keys(['dept', 'title'])\n"
          ],
          "name": "stdout"
        }
      ]
    },
    {
      "cell_type": "code",
      "metadata": {
        "colab": {
          "base_uri": "https://localhost:8080/"
        },
        "id": "C7Toqp7_GSte",
        "outputId": "b35932c0-0a21-4eca-fef7-e520d5cec644"
      },
      "source": [
        "staff_data = {'dept':['Audit', 'Business', 'Finance'], 'title': ['Manager', 'Officer', 'Director']}\n",
        "print(staff_data['dept'])# Printing the value for the 'dept' key"
      ],
      "execution_count": null,
      "outputs": [
        {
          "output_type": "stream",
          "text": [
            "['Audit', 'Business', 'Finance']\n"
          ],
          "name": "stdout"
        }
      ]
    },
    {
      "cell_type": "code",
      "metadata": {
        "colab": {
          "base_uri": "https://localhost:8080/"
        },
        "id": "LIaNfK2UDWkN",
        "outputId": "f4d40bdd-1ee2-4589-b9cc-7cd7c1184153"
      },
      "source": [
        "staff_data = {'dept':['Audit', 'Business', 'Finance'], 'title': ['Manager', 'Officer', 'Director']}\n",
        "staff_data"
      ],
      "execution_count": null,
      "outputs": [
        {
          "output_type": "execute_result",
          "data": {
            "text/plain": [
              "{'dept': ['Audit', 'Business', 'Finance'],\n",
              " 'title': ['Manager', 'Officer', 'Director']}"
            ]
          },
          "metadata": {
            "tags": []
          },
          "execution_count": 6
        }
      ]
    },
    {
      "cell_type": "code",
      "metadata": {
        "colab": {
          "base_uri": "https://localhost:8080/"
        },
        "id": "HhOQxtNKDujn",
        "outputId": "08baf773-126e-4775-c738-9f34159c9fc1"
      },
      "source": [
        "staff_data = {'dept':['Audit', 'Business', 'Finance'], 'title': ['Manager', 'Officer', 'Director']}\n",
        "print([val for val in staff_data.items()]) #commonly used method"
      ],
      "execution_count": null,
      "outputs": [
        {
          "output_type": "stream",
          "text": [
            "[('dept', ['Audit', 'Business', 'Finance']), ('title', ['Manager', 'Officer', 'Director'])]\n"
          ],
          "name": "stdout"
        }
      ]
    },
    {
      "cell_type": "markdown",
      "metadata": {
        "id": "tUtYEp-GEeoN"
      },
      "source": [
        "**Manipulation of data**"
      ]
    },
    {
      "cell_type": "code",
      "metadata": {
        "colab": {
          "base_uri": "https://localhost:8080/"
        },
        "id": "_RUv8s5dEiax",
        "outputId": "9948b1b4-94bb-473a-ce08-bde695e24099"
      },
      "source": [
        "del(staff_data['title']) #deleting a key and its values from an existing dictionary\n",
        "print(staff_data)"
      ],
      "execution_count": null,
      "outputs": [
        {
          "output_type": "stream",
          "text": [
            "{'dept': ['Audit', 'Business', 'Finance']}\n"
          ],
          "name": "stdout"
        }
      ]
    },
    {
      "cell_type": "code",
      "metadata": {
        "colab": {
          "base_uri": "https://localhost:8080/",
          "height": 36
        },
        "id": "QAo2bUeXJBh0",
        "outputId": "1f3e0ce4-37d9-4d94-d7cc-68751fe6f690"
      },
      "source": [
        "staff_data['dept'] = 'units' # Updating value for existing key\n",
        "staff_data['dept']"
      ],
      "execution_count": null,
      "outputs": [
        {
          "output_type": "execute_result",
          "data": {
            "application/vnd.google.colaboratory.intrinsic+json": {
              "type": "string"
            },
            "text/plain": [
              "'units'"
            ]
          },
          "metadata": {
            "tags": []
          },
          "execution_count": 20
        }
      ]
    },
    {
      "cell_type": "code",
      "metadata": {
        "colab": {
          "base_uri": "https://localhost:8080/"
        },
        "id": "FyU8fEx8JvSX",
        "outputId": "9d429511-c3e3-4e9b-9851-f9d42cdc3db8"
      },
      "source": [
        "staff_data['title'] = 'some_new_value' #Adding a key or value pair to an existing dictionary\n",
        "\n",
        "staff_data"
      ],
      "execution_count": null,
      "outputs": [
        {
          "output_type": "execute_result",
          "data": {
            "text/plain": [
              "{'dept': 'units', 'title': 'some_new_value'}"
            ]
          },
          "metadata": {
            "tags": []
          },
          "execution_count": 21
        }
      ]
    },
    {
      "cell_type": "code",
      "metadata": {
        "id": "mwEjm-ThJvHW"
      },
      "source": [
        ""
      ],
      "execution_count": null,
      "outputs": []
    }
  ]
}